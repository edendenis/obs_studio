{
 "cells": [
  {
   "cell_type": "markdown",
   "metadata": {},
   "source": [
    "# Como configurar/instalar/usar o `obs-studio` no `Linux Ubuntu`\n",
    "\n",
    "## Resumo\n",
    "\n",
    "Neste documento estão contidos os principais comandos e configurações para configurar/instalar/usar o `obs-studio` no `Linux Ubuntu`.\n",
    "\n",
    "## _Abstract_\n",
    "\n",
    "_This document contains the main commands and settings for configuring/installing/using the `obs-studio` on `Linux Ubuntu`._\n"
   ]
  },
  {
   "cell_type": "markdown",
   "metadata": {},
   "source": [
    "## Descrição [2]\n",
    "\n",
    "### `obs-studio`\n",
    "\n",
    "O `OBS Studio` é um _software_ de código aberto amplamente utilizado para gravação e transmissão de conteúdo em tempo real. Com recursos avançados de captura de tela, webcam e áudio, permite aos usuários criar transmissões de alta qualidade para plataformas como Twitch, YouTube e Facebook. Além disso, oferece recursos de edição em tempo real, como sobreposições de texto e imagens, e é altamente personalizável por meio de plugins e configurações avançadas. É uma ferramenta popular entre streamers, criadores de conteúdo e profissionais que necessitam de uma solução robusta para produção de vídeo ao vivo.\n"
   ]
  },
  {
   "cell_type": "markdown",
   "metadata": {},
   "source": [
    "## 1. Como configurar/instalar/usar o `obs-studio` no `Linux Ubuntu` [1][3]\n",
    "\n",
    "Para configurar/instalar/usar o `obs-studio` no `Linux Ubuntu`, você pode seguir estes passos:\n",
    "\n",
    "1. Abra o `Terminal Emulator`. Você pode fazer isso pressionando: `Ctrl + Alt + T`"
   ]
  },
  {
   "cell_type": "markdown",
   "metadata": {},
   "source": [
    "2. Certifique-se de que seu sistema esteja limpo e atualizado.\n",
    "\n",
    "    2.1 Limpar o `cache` do gerenciador de pacotes `apt`. Especificamente, ele remove todos os arquivos de pacotes (`.deb`) baixados pelo `apt` e armazenados em `/var/cache/apt/archives/`. Digite o seguinte comando: `sudo apt clean` \n",
    "    \n",
    "    2.2 Remover pacotes `.deb` antigos ou duplicados do cache local. É útil para liberar espaço, pois remove apenas os pacotes que não podem mais ser baixados (ou seja, versões antigas de pacotes que foram atualizados). Digite o seguinte comando: `sudo apt autoclean`\n",
    "\n",
    "    2.3 Remover pacotes que foram automaticamente instalados para satisfazer as dependências de outros pacotes e que não são mais necessários. Digite o seguinte comando: `sudo apt autoremove -y`\n",
    "\n",
    "    2.4 Buscar as atualizações disponíveis para os pacotes que estão instalados em seu sistema. Digite o seguinte comando e pressione `Enter`: `sudo apt update -y`\n",
    "\n",
    "    2.5 Para ver a lista de pacotes a serem atualizados, digite o seguinte comando e pressione `Enter`:  `sudo apt list --upgradable`\n",
    "\n",
    "    2.6 Realmente atualizar os pacotes instalados para as suas versões mais recentes, com base na última vez que você executou `sudo apt update -y`. Digite o seguinte comando e pressione `Enter`: `sudo apt full-upgrade -y`\n",
    "\n",
    "    2.7 Remover pacotes que foram automaticamente instalados para satisfazer as dependências de outros pacotes e que não são mais necessários. Digite o seguinte comando: `sudo apt autoremove -y`\n",
    "\n",
    "    2.8 Remover pacotes `.deb` antigos ou duplicados do cache local. É útil para liberar espaço, pois remove apenas os pacotes que não podem mais ser baixados (ou seja, versões antigas de pacotes que foram atualizados). Digite o seguinte comando: `sudo apt autoclean`"
   ]
  },
  {
   "cell_type": "markdown",
   "metadata": {},
   "source": [
    "Para instalar o `OBS Studio` no `Linux Ubuntu` utilizando o `Terminal Emulator`, você pode seguir os passos abaixo. Essas instruções assumem que você está utilizando uma versão recente do Ubuntu:\n",
    "\n",
    "3. **Adicione o PPA do OBS Studio**: O `OBS Studio` fornece um PPA (Personal Package Archive) oficial que facilita a instalação e atualização. Para adicionar o PPA, execute o seguinte comando: `sudo add-apt-repository ppa:obsproject/obs-studio`\n",
    "\n",
    "    Isso adicionará o repositório do OBS ao seu sistema. Você terá que pressionar `Enter` para confirmar.\n",
    "\n",
    "4. **Atualize a lista de pacotes**: Após adicionar o PPA, é uma boa prática atualizar a lista de pacotes do seu sistema para incluir os novos pacotes disponíveis no PPA: `sudo apt update`\n",
    "\n",
    "5. **Instale o OBS Studio**: Com o repositório adicionado e a lista de pacotes atualizada, agora você pode instalar o OBS Studio com o seguinte comando: `sudo apt install obs-studio -y`\n",
    "\n",
    "6. **Execute o OBS Studio**: Após a instalação, você pode iniciar o `OBS Studio` pelo terminal com o comando obs ou encontrá-lo no menu de aplicações.\n",
    "\n",
    "7. **Configurações adicionais**: Após a instalação, você pode querer configurar fontes de áudio e vídeo. `O OBS Studio` geralmente detecta dispositivos de vídeo e áudio automaticamente, mas você pode precisar configurar manualmente dependendo do seu setup.\n",
    "Estes passos devem ajudá-lo a instalar o `OBS Studio` no Ubuntu através do terminal. Se houver atualizações disponíveis no futuro, elas devem ser gerenciadas automaticamente pelo gestor de pacotes quando você executar `sudo apt update` e `sudo apt upgrade`."
   ]
  },
  {
   "cell_type": "markdown",
   "metadata": {
    "vscode": {
     "languageId": "plaintext"
    }
   },
   "source": [
    "### 1.1 Estilo de letra próxima ao estilo de letra `Book Antiqua`\n",
    "\n",
    "### 1.1.1 Estilo de letra `Noto Serif` \n",
    "\n",
    "Analisando a lista de fontes fornecida, a que se assemelha mais a `\"Book Antiqua\"` seria `\"Noto Serif\"`, pois é uma família de fontes serifadas e tem várias variações que podem se aproximar das características da `\"Book Antiqua\"`. A família `\"Noto\"` é conhecida por sua ampla cobertura de idiomas e estilos, e as serifas na `\"Noto Serif\"` têm um estilo que pode lembrar as elegantes serifas da `\"Book Antiqua\"`.\n",
    "\n",
    "Assim, eu sugeriria explorar a `\"Noto Serif\"` ou alguma de suas variações para algo que possa se aproximar da aparência da `\"Book Antiqua\"`.\n",
    "\n",
    "### 1.1.2 Estilo de letra `URW Bookman`\n",
    "\n",
    "Analisando as novas fontes apresentadas, a que se destaca como mais semelhante à `\"Book Antiqua\"` seria a `\"URW Bookman\"`. A `\"URW Bookman\"` é uma fonte serifada, com um estilo que remete ao design clássico, o que a torna mais próxima visualmente da `\"Book Antiqua\"` do que outras opções `sans-serif` ou com design moderno.\n",
    "\n",
    "A `\"Book Antiqua\"` é conhecida por suas serifas distintas e a estrutura de suas letras que lembra a tipografia tradicional de livros e impressão clássica. A `\"URW Bookman\" `compartilha dessas qualidades, fazendo dela uma opção viável se você está buscando uma fonte alternativa no seu sistema que seja semelhante à `\"Book Antiqua\"`."
   ]
  },
  {
   "cell_type": "markdown",
   "metadata": {
    "vscode": {
     "languageId": "plaintext"
    }
   },
   "source": [
    "## 2. Código completo para configurar/instalar/usar\n",
    "\n",
    "Para configurar/instalar/usar o `obs-studio` no `Linux Ubuntu` sem precisar digitar linha por linha, você pode seguir estas etapas:\n",
    "\n",
    "1. Abra o terminal. Você pode fazer isso pressionando: `Ctrl + Alt + T`\n",
    "\n",
    "2. Digite o seguinte comando e pressione `Enter`:\n",
    "\n",
    "    ```\n",
    "    sudo apt clean\n",
    "    sudo apt autoclean -y\n",
    "    sudo apt autoremove -y\n",
    "    sudo apt update -y\n",
    "    sudo apt uptoremove -y\n",
    "    sudo apt autoclean -y\n",
    "    sudo apt install obs-studio -y\n",
    "    obs-studio\n",
    "    ```\n"
   ]
  },
  {
   "cell_type": "markdown",
   "metadata": {
    "vscode": {
     "languageId": "plaintext"
    }
   },
   "source": [
    "## 3. Identificar o caminho do dispotivo `webcam`\n",
    "\n",
    "Para ter certeza do caminho do dispositivo de vídeo da sua `webcam` no `Linux`, você pode seguir estes passos no terminal:\n",
    "\n",
    "1. Abra um terminal.\n",
    "\n",
    "2. **Digite o comando a seguir e pressione `Enter`: `ls /dev/video*`\n",
    "\n",
    "    Este comando vai listar todos os dispositivos de vídeo reconhecidos pelo sistema, geralmente as webcams são listadas como `/dev/video0`, `/dev/video1` etc.\n",
    "\n",
    "3. **Instalar o `v4l2-utils`**: Faça isso com o comando: `sudo apt-get install v4l-utils`\n",
    "    \n",
    "    Se estiver usando uma distribuição baseada em `Debian` ou `Ubuntu`.\n",
    "\n",
    "4. Se você tiver mais de um dispositivo listado e não tiver certeza de qual é a sua `webcam`, pode testar uma outra opção é usar o comando:  `v4l2-ctl --list-devices`\n",
    "\n",
    "    Este comando que oferece uma listagem mais detalhada dos dispositivos de vídeo e associa cada um aos respectivos caminhos no `/dev`.Você pode precisar instalar a ferramenta `v4l-utils` para usar o `v4l2-ctl`.\n"
   ]
  },
  {
   "cell_type": "markdown",
   "metadata": {
    "vscode": {
     "languageId": "plaintext"
    }
   },
   "source": [
    "## Referências\n",
    "\n",
    "[1] OPENAI. ***Instale OBS no Ubuntu.*** Disponível em: <https://chat.openai.com/c/8fb38323-56e4-40ba-b1f3-a7d16ceb378d> (texto adaptado). Acessado em: 24/04/2023 17:11.\n",
    "\n",
    "[2] OPENAI. ***Vs code: editor popular.*** Disponível em: <https://chat.openai.com/c/b640a25d-f8e3-4922-8a3b-ed74a2657e42> (texto adaptado). Acessado em: 24/04/2024 17:10.\n"
   ]
  }
 ],
 "metadata": {
  "kernelspec": {
   "display_name": "Python 3",
   "language": "python",
   "name": "python3"
  },
  "language_info": {
   "codemirror_mode": {
    "name": "ipython",
    "version": 3
   },
   "file_extension": ".py",
   "mimetype": "text/x-python",
   "name": "python",
   "nbconvert_exporter": "python",
   "pygments_lexer": "ipython3",
   "version": "3.11.8"
  },
  "orig_nbformat": 4
 },
 "nbformat": 4,
 "nbformat_minor": 2
}
